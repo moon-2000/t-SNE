{
 "cells": [
  {
   "cell_type": "code",
   "execution_count": 7,
   "id": "4b424600",
   "metadata": {},
   "outputs": [],
   "source": [
    "import matplotlib.pyplot as plt \n",
    "import seaborn as sns\n",
    "import pandas as pd\n",
    "import numpy as np\n",
    "\n",
    "from sklearn import datasets\n",
    "from sklearn import manifold\n",
    "\n",
    "%matplotlib inline "
   ]
  },
  {
   "cell_type": "code",
   "execution_count": null,
   "id": "21c75edf",
   "metadata": {},
   "outputs": [],
   "source": [
    "# import MNIST dataset using the sklearn built-in function (fetch.openml())\n",
    "\n",
    "data = datasets.fetch_openml(\n",
    "                'mnist_784', \n",
    "                version=1, \n",
    "                return_X_y=True\n",
    ")\n",
    "input_pixels, targets = data\n",
    "targets = targets.astype(int)"
   ]
  },
  {
   "cell_type": "code",
   "execution_count": null,
   "id": "079790bd",
   "metadata": {},
   "outputs": [],
   "source": [
    "# the inputs is 7000 images of dimensions (28*28) resulting in matrix 7000 images * 784 image pixels\n",
    "input_pixels.shape"
   ]
  },
  {
   "cell_type": "code",
   "execution_count": null,
   "id": "aa712e4b",
   "metadata": {},
   "outputs": [],
   "source": [
    "# displaying image number 8 after reshaping its flattened array to the original image dimensions\n",
    "sample_image = input_pixels.iloc[8, :]\n",
    "sample_image = sample_image.values.reshape(28, 28)\n",
    "plt.imshow(sample_image, cmap='gray')"
   ]
  },
  {
   "cell_type": "markdown",
   "id": "a8a26da9",
   "metadata": {},
   "source": [
    "### t-SNE for MNIST dataset"
   ]
  },
  {
   "cell_type": "code",
   "execution_count": null,
   "id": "5e7cb26f",
   "metadata": {},
   "outputs": [],
   "source": [
    "# creat a tsne for the data in two dimenional space\n",
    "tsne = manifold.TSNE(n_components=2, learning_rate='auto',\n",
    "                     init='random', random_state=42)\n",
    "transformed_data = tsne.fit_transform(input_pixels.iloc[:3000, :])"
   ]
  },
  {
   "cell_type": "code",
   "execution_count": null,
   "id": "c0fc6cf7",
   "metadata": {},
   "outputs": [],
   "source": [
    "#convert the numpy to a pandas dataframe\n",
    "#(2 columns of resulting t-SNE decomposition, + 1 column of the actual data)\n",
    "tsne_df = pd.DataFrame(\n",
    "        np.column_stack((transformed_data, targets[:3000])),\n",
    "        columns=[\"x\", \"y\", \"targets\"]\n",
    ")\n",
    "tsne_df.loc[:, \"targets\"] = tsne_df.targets.astype(int)"
   ]
  },
  {
   "cell_type": "code",
   "execution_count": null,
   "id": "8492b7a5",
   "metadata": {},
   "outputs": [],
   "source": [
    "grid = sns.FacetGrid(tsne_df, hue=\"targets\", height=8)\n",
    "grid.map(plt.scatter, \"x\", \"y\").add_legend()"
   ]
  },
  {
   "cell_type": "code",
   "execution_count": 55,
   "id": "ecc64690",
   "metadata": {},
   "outputs": [
    {
     "data": {
      "text/plain": [
       "<Figure size 432x288 with 0 Axes>"
      ]
     },
     "metadata": {},
     "output_type": "display_data"
    }
   ],
   "source": [
    "plt.savefig('t-SNE_MNIST.png')"
   ]
  },
  {
   "cell_type": "code",
   "execution_count": null,
   "id": "9cbf9531",
   "metadata": {},
   "outputs": [],
   "source": []
  }
 ],
 "metadata": {
  "kernelspec": {
   "display_name": "Python 3 (ipykernel)",
   "language": "python",
   "name": "python3"
  },
  "language_info": {
   "codemirror_mode": {
    "name": "ipython",
    "version": 3
   },
   "file_extension": ".py",
   "mimetype": "text/x-python",
   "name": "python",
   "nbconvert_exporter": "python",
   "pygments_lexer": "ipython3",
   "version": "3.9.12"
  }
 },
 "nbformat": 4,
 "nbformat_minor": 5
}
